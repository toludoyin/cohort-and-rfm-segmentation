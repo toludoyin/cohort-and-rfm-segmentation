{
 "cells": [
  {
   "cell_type": "markdown",
   "metadata": {},
   "source": [
    "## House Price Prediction\n",
    "Create a machine learning program to predict house prices using the input data\n",
    "\n",
    "### Linear Regression\n",
    "Is use to predict the value of a variable (dependent, single outcome) based on the value of other variable\n",
    "(independent, many input). y= ax + b"
   ]
  },
  {
   "cell_type": "code",
   "execution_count": 1,
   "metadata": {},
   "outputs": [],
   "source": [
    "import numpy as np\n",
    "import pandas as pd\n",
    "import matplotlib.pyplot as plt\n",
    "import seaborn as sns\n",
    "\n",
    "from sklearn.linear_model import LinearRegression\n",
    "from sklearn.model_selection import train_test_split as tts\n",
    "\n",
    "pd.set_option('display.max_columns', None)\n",
    "pd.set_option('display.max_rows', 50)\n",
    "pd.set_option('float_format', '{:,.2f}'.format)"
   ]
  },
  {
   "cell_type": "code",
   "execution_count": 2,
   "metadata": {},
   "outputs": [],
   "source": [
    "house_data= pd.read_csv('house_data.csv')"
   ]
  },
  {
   "cell_type": "code",
   "execution_count": 3,
   "metadata": {},
   "outputs": [
    {
     "name": "stdout",
     "output_type": "stream",
     "text": [
      "Details of the House Price Prediction data below:\n"
     ]
    },
    {
     "data": {
      "text/plain": [
       "(21613, 21)"
      ]
     },
     "metadata": {},
     "output_type": "display_data"
    },
    {
     "name": "stdout",
     "output_type": "stream",
     "text": [
      "<class 'pandas.core.frame.DataFrame'>\n",
      "RangeIndex: 21613 entries, 0 to 21612\n",
      "Data columns (total 21 columns):\n",
      " #   Column         Non-Null Count  Dtype  \n",
      "---  ------         --------------  -----  \n",
      " 0   id             21613 non-null  int64  \n",
      " 1   date           21613 non-null  object \n",
      " 2   price          21613 non-null  float64\n",
      " 3   bedrooms       21613 non-null  int64  \n",
      " 4   bathrooms      21613 non-null  float64\n",
      " 5   sqft_living    21613 non-null  int64  \n",
      " 6   sqft_lot       21613 non-null  int64  \n",
      " 7   floors         21613 non-null  float64\n",
      " 8   waterfront     21613 non-null  int64  \n",
      " 9   view           21613 non-null  int64  \n",
      " 10  condition      21613 non-null  int64  \n",
      " 11  grade          21613 non-null  int64  \n",
      " 12  sqft_above     21613 non-null  int64  \n",
      " 13  sqft_basement  21613 non-null  int64  \n",
      " 14  yr_built       21613 non-null  int64  \n",
      " 15  yr_renovated   21613 non-null  int64  \n",
      " 16  zipcode        21613 non-null  int64  \n",
      " 17  lat            21613 non-null  float64\n",
      " 18  long           21613 non-null  float64\n",
      " 19  sqft_living15  21613 non-null  int64  \n",
      " 20  sqft_lot15     21613 non-null  int64  \n",
      "dtypes: float64(5), int64(15), object(1)\n",
      "memory usage: 3.5+ MB\n"
     ]
    },
    {
     "data": {
      "text/plain": [
       "None"
      ]
     },
     "metadata": {},
     "output_type": "display_data"
    },
    {
     "data": {
      "text/plain": [
       "Index(['id', 'date', 'price', 'bedrooms', 'bathrooms', 'sqft_living',\n",
       "       'sqft_lot', 'floors', 'waterfront', 'view', 'condition', 'grade',\n",
       "       'sqft_above', 'sqft_basement', 'yr_built', 'yr_renovated', 'zipcode',\n",
       "       'lat', 'long', 'sqft_living15', 'sqft_lot15'],\n",
       "      dtype='object')"
      ]
     },
     "metadata": {},
     "output_type": "display_data"
    }
   ],
   "source": [
    "def data_insight(house_data,data= 'data'):\n",
    "    print(f'Details of the {data} data below:')\n",
    "    display(house_data.shape)\n",
    "    display(house_data.info())\n",
    "    display(house_data.columns)\n",
    "    \n",
    "data_insight(house_data, data= 'House Price Prediction')    "
   ]
  },
  {
   "cell_type": "markdown",
   "metadata": {},
   "source": [
    "### Using algorithm to train the model"
   ]
  },
  {
   "cell_type": "markdown",
   "metadata": {},
   "source": [
    "Defining the data:\n",
    "\n",
    "input/dependent/features-its will help to predict the data (x)\n",
    "\n",
    "output/independent/labels-predicting value(outcome) (y)"
   ]
  },
  {
   "cell_type": "code",
   "execution_count": 4,
   "metadata": {},
   "outputs": [],
   "source": [
    "x= house_data.drop(['id', 'date', 'price'], axis=1).values"
   ]
  },
  {
   "cell_type": "code",
   "execution_count": 5,
   "metadata": {},
   "outputs": [],
   "source": [
    "y = house_data['price'].values"
   ]
  },
  {
   "cell_type": "code",
   "execution_count": 6,
   "metadata": {},
   "outputs": [],
   "source": [
    "# split data into training and testing set\n",
    "x_train, x_test, y_train, y_test= tts(x, y, test_size=0.2, random_state= 1)"
   ]
  },
  {
   "cell_type": "code",
   "execution_count": 7,
   "metadata": {},
   "outputs": [
    {
     "data": {
      "text/plain": [
       "LinearRegression()"
      ]
     },
     "execution_count": 7,
     "metadata": {},
     "output_type": "execute_result"
    }
   ],
   "source": [
    "# train data on a linearRegression model\n",
    "model = LinearRegression()\n",
    "model.fit(x_train, y_train)"
   ]
  },
  {
   "cell_type": "code",
   "execution_count": 8,
   "metadata": {},
   "outputs": [
    {
     "data": {
      "text/plain": [
       "array([ 640058.17791122,  476677.53037967,  707658.73936285, ...,\n",
       "        360521.61328909, 1387672.15189839,  367938.08050212])"
      ]
     },
     "execution_count": 8,
     "metadata": {},
     "output_type": "execute_result"
    }
   ],
   "source": [
    "predictions =model.predict(x_test)\n",
    "predictions"
   ]
  },
  {
   "cell_type": "code",
   "execution_count": 15,
   "metadata": {},
   "outputs": [
    {
     "data": {
      "text/plain": [
       "0.6858691420603225"
      ]
     },
     "execution_count": 15,
     "metadata": {},
     "output_type": "execute_result"
    }
   ],
   "source": [
    "#  test the model against the test data for accuracy\n",
    "model.score(x_test,y_test)"
   ]
  },
  {
   "cell_type": "code",
   "execution_count": 12,
   "metadata": {},
   "outputs": [
    {
     "data": {
      "text/plain": [
       "array([-3.20279315e+04,  3.60409149e+04,  1.06391432e+02,  1.32288285e-01,\n",
       "        1.01348768e+04,  5.38860457e+05,  5.19958026e+04,  2.76632242e+04,\n",
       "        9.55651532e+04,  6.86621574e+01,  3.77292745e+01, -2.51780015e+03,\n",
       "        2.10768444e+01, -5.49685041e+02,  6.10241682e+05, -2.06289119e+05,\n",
       "        2.11939640e+01, -3.47658777e-01])"
      ]
     },
     "execution_count": 12,
     "metadata": {},
     "output_type": "execute_result"
    }
   ],
   "source": [
    "model.coef_"
   ]
  },
  {
   "cell_type": "code",
   "execution_count": 16,
   "metadata": {},
   "outputs": [
    {
     "name": "stdout",
     "output_type": "stream",
     "text": [
      "The coefficient for bedrooms is -32,027.931537\n",
      "The coefficient for bathrooms is 36,040.914885\n",
      "The coefficient for sqft_living is 106.391432\n",
      "The coefficient for sqft_lot is 0.132288\n",
      "The coefficient for floors is 10,134.876757\n",
      "The coefficient for waterfront is 538,860.456959\n",
      "The coefficient for view is 51,995.802569\n",
      "The coefficient for condition is 27,663.224239\n",
      "The coefficient for grade is 95,565.153209\n",
      "The coefficient for sqft_above is 68.662157\n",
      "The coefficient for sqft_basement is 37.729275\n",
      "The coefficient for yr_built is -2,517.800151\n",
      "The coefficient for yr_renovated is 21.076844\n",
      "The coefficient for zipcode is -549.685041\n",
      "The coefficient for lat is 610,241.681589\n",
      "The coefficient for long is -206,289.118544\n",
      "The coefficient for sqft_living15 is 21.193964\n",
      "The coefficient for sqft_lot15 is -0.347659\n"
     ]
    }
   ],
   "source": [
    "for xyz, col_name in enumerate(house_data.columns[3:21]):\n",
    "    print(\"The coefficient for {} is {:,.6f}\" .format(col_name, model.coef_[xyz]))"
   ]
  },
  {
   "cell_type": "code",
   "execution_count": 17,
   "metadata": {},
   "outputs": [
    {
     "name": "stdout",
     "output_type": "stream",
     "text": [
      "The intercept for our model is 3,956,635.48\n"
     ]
    }
   ],
   "source": [
    "intercept = model.intercept_\n",
    "print(\"The intercept for our model is {:,.2f}\".format(intercept))"
   ]
  },
  {
   "cell_type": "code",
   "execution_count": 18,
   "metadata": {},
   "outputs": [
    {
     "name": "stdout",
     "output_type": "stream",
     "text": [
      "68.59%  of the variation in the Price is explained by the variables\n"
     ]
    }
   ],
   "source": [
    "print(\"{:.2%}\".format(model.score(x_test, y_test)), ' of the variation in the Price is explained by the variables')"
   ]
  },
  {
   "cell_type": "code",
   "execution_count": 19,
   "metadata": {},
   "outputs": [
    {
     "name": "stdout",
     "output_type": "stream",
     "text": [
      "The intercept for our model is 54,219,291,122.91\n"
     ]
    }
   ],
   "source": [
    "from sklearn.metrics import mean_squared_error\n",
    "\n",
    "y_pred = model.predict(x_test)\n",
    "\n",
    "regression_model_mse = mean_squared_error(y_pred, y_test)\n",
    "\n",
    "print(\"The intercept for our model is {:,.2f}\".format(regression_model_mse))"
   ]
  },
  {
   "cell_type": "code",
   "execution_count": 20,
   "metadata": {},
   "outputs": [
    {
     "name": "stdout",
     "output_type": "stream",
     "text": [
      "The RSME for our model is 232,850.36\n"
     ]
    }
   ],
   "source": [
    "import math\n",
    "\n",
    "print(\"The RSME for our model is {:,.2f}\".format(math.sqrt(regression_model_mse)))"
   ]
  },
  {
   "cell_type": "code",
   "execution_count": null,
   "metadata": {},
   "outputs": [],
   "source": []
  }
 ],
 "metadata": {
  "kernelspec": {
   "display_name": "Python 3",
   "language": "python",
   "name": "python3"
  },
  "language_info": {
   "codemirror_mode": {
    "name": "ipython",
    "version": 3
   },
   "file_extension": ".py",
   "mimetype": "text/x-python",
   "name": "python",
   "nbconvert_exporter": "python",
   "pygments_lexer": "ipython3",
   "version": "3.8.3"
  }
 },
 "nbformat": 4,
 "nbformat_minor": 4
}
